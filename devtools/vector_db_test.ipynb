{
 "cells": [
  {
   "cell_type": "code",
   "execution_count": 34,
   "metadata": {},
   "outputs": [
    {
     "name": "stderr",
     "output_type": "stream",
     "text": [
      "Hardware accelerator e.g. GPU is available in the environment, but no `device` argument is passed to the `Pipeline` object. Model will be on CPU.\n"
     ]
    }
   ],
   "source": [
    "from pinecone import Pinecone\n",
    "from openai import OpenAI\n",
    "from typing import List\n",
    "from transformers import pipeline\n",
    "import sys\n",
    "sys.path.append('../')\n",
    "sys.path.extend('../')\n",
    "from app.settings import inject_settings\n",
    "from datetime import datetime\n",
    "import uuid\n",
    "from vector_db_uploader import embed_text\n",
    "\n",
    "settings = inject_settings()\n",
    "pinecone_client = Pinecone(api_key=settings.PINECONE_API_KEY)\n",
    "index = pinecone_client.Index(\"salesloft-vista\")\n",
    "client = OpenAI(api_key=settings.OPENAI_API_KEY)\n",
    "from ai_agent_coach.openai_requester import get_recommendation\n"
   ]
  },
  {
   "cell_type": "code",
   "execution_count": 42,
   "metadata": {},
   "outputs": [],
   "source": [
    "\n",
    "# Set transcription parameters\n",
    "parameters = {\n",
    "    \"model\": \"gpt-4o-mini\",\n",
    "    \"response_format\":{ \"type\": \"json_object\" },\n",
    "    \"temperature\": 0,\n",
    "    \"max_tokens\": 1000,\n",
    "    \"top_k\":5\n",
    "}\n",
    "\n",
    "\n",
    "transcription = \"What is the best discount you can give me? Are you flexible?\""
   ]
  },
  {
   "cell_type": "code",
   "execution_count": 44,
   "metadata": {},
   "outputs": [],
   "source": [
    "recommendation_list = get_recommendation(client, index, parameters, transcription)\n"
   ]
  },
  {
   "cell_type": "code",
   "execution_count": 45,
   "metadata": {},
   "outputs": [
    {
     "data": {
      "text/plain": [
       "[\"Ask about their budget to explore flexibility: 'What does your budget look like for this initiative?'\",\n",
       " \"Mention payment options: 'We offer installment plans to make budgeting easier.'\"]"
      ]
     },
     "execution_count": 45,
     "metadata": {},
     "output_type": "execute_result"
    }
   ],
   "source": [
    "recommendation_list"
   ]
  },
  {
   "cell_type": "code",
   "execution_count": 46,
   "metadata": {},
   "outputs": [
    {
     "name": "stdout",
     "output_type": "stream",
     "text": [
      "\t* Ask about their budget to explore flexibility: 'What does your budget look like for this initiative?'\n",
      "\t* Mention payment options: 'We offer installment plans to make budgeting easier.'\n"
     ]
    },
    {
     "data": {
      "text/plain": [
       "[None, None]"
      ]
     },
     "execution_count": 46,
     "metadata": {},
     "output_type": "execute_result"
    }
   ],
   "source": [
    "[print(f\"\\t* {rec}\") for rec in recommendation_list]\n"
   ]
  },
  {
   "cell_type": "code",
   "execution_count": 29,
   "metadata": {},
   "outputs": [],
   "source": [
    "\n",
    "query_string = \"What is the best discount you can give me? Are you flexible?\"\n",
    "\n",
    "query_vector = embed_text(client=client, text=query_string)\n",
    "document_payload_response = index.query(\n",
    "                                        vector = query_vector,\n",
    "                                        top_k=5,\n",
    "                                        include_metadata=True\n",
    "                                    )\n",
    "text_chunks = [match.metadata for match in document_payload_response['matches']]\n",
    "documents = [doc['textchunk'] for doc in text_chunks]"
   ]
  },
  {
   "cell_type": "code",
   "execution_count": 30,
   "metadata": {},
   "outputs": [],
   "source": [
    "# contatenated_string_list = []\n",
    "\n",
    "# for idx, doc in enumerate(documents, start =1):\n",
    "#     contatenated_string_list.append(f\"Context document #{idx}: {doc}\\n\")\n",
    "\n",
    "# concatenated_document_string =\"\\n\".join(contatenated_string_list)"
   ]
  },
  {
   "cell_type": "code",
   "execution_count": 31,
   "metadata": {},
   "outputs": [],
   "source": [
    "def concatenate_documents(documents):\n",
    "    \"\"\"\n",
    "    Concatenate a list of documents into a single string with each document\n",
    "    prefixed by its index.\n",
    "\n",
    "    Args:\n",
    "        documents (list of str): A list of document strings to be concatenated.\n",
    "\n",
    "    Returns:\n",
    "        str: A single string where each document is prefixed by its index and separated by newlines.\n",
    "    \"\"\"\n",
    "    concatenated_string_list = []\n",
    "\n",
    "    # Iterate over the documents with an index starting from 1\n",
    "    for idx, doc in enumerate(documents, start=1):\n",
    "        # Append the formatted document string to the list\n",
    "        concatenated_string_list.append(f\"Context document #{idx}: {doc}\\n\")\n",
    "    \n",
    "    # Join all document strings into a single string with newlines\n",
    "    concatenated_document_string = \"\\n\".join(concatenated_string_list)\n",
    "    \n",
    "    return concatenated_document_string\n"
   ]
  },
  {
   "cell_type": "code",
   "execution_count": 32,
   "metadata": {},
   "outputs": [],
   "source": [
    "concatenated_doc_context = concatenate_documents(documents)"
   ]
  },
  {
   "cell_type": "code",
   "execution_count": 33,
   "metadata": {},
   "outputs": [
    {
     "name": "stdout",
     "output_type": "stream",
     "text": [
      "Context document #1: your budget look like for this initiative? Are there areas where you see flexibility?\" 4. Position Pricing as Flexible: \"We offer several packages to fit different needs and budgets. Our standard \n",
      "\n",
      "Context document #2: see if there’s flexibility in their budget. \"If we can show a strong ROI, would there be room to adjust the budget slightly?\" 4. Position Pricing as Flexible Offer Pricing Options - Multiple Tiers or \n",
      "\n",
      "Context document #3: Installment Plans: If available, discuss installment payment options. \"We offer a 12-month installment plan which can make budgeting easier for you.\" - Deferred Payments: If applicable, offer \n",
      "\n",
      "Context document #4: open-ended questions to understand their budget constraints without making assumptions. \"Can you share with me what your budget looks like for this project?\" - Explore Financial Flexibility: Probe to \n",
      "\n",
      "Context document #5: customizing a package to better fit their needs. \"We can also tailor a package that fits your specific requirements if none of these options fully align with your needs.\" Highlight Payment Plans - \n",
      "\n"
     ]
    }
   ],
   "source": [
    "print(concatenated_doc_context)"
   ]
  },
  {
   "cell_type": "code",
   "execution_count": null,
   "metadata": {},
   "outputs": [],
   "source": []
  },
  {
   "cell_type": "code",
   "execution_count": null,
   "metadata": {},
   "outputs": [],
   "source": []
  },
  {
   "cell_type": "code",
   "execution_count": null,
   "metadata": {},
   "outputs": [],
   "source": []
  },
  {
   "cell_type": "code",
   "execution_count": 58,
   "metadata": {},
   "outputs": [],
   "source": [
    "def read_file(file_path: str) -> str:\n",
    "    with open(file_path, \"r\", encoding='utf-8') as file:\n",
    "        return file.read()\n",
    "    \n",
    "def chunk_text(text: str, chunk_size: int) -> list:\n",
    "    chunks = []\n",
    "    curr_chunk = \"\"\n",
    "\n",
    "    for word in text.split():\n",
    "        if len(curr_chunk) + len(word) < chunk_size:\n",
    "            curr_chunk += word + \" \"\n",
    "        else:\n",
    "            chunks.append(curr_chunk)\n",
    "            curr_chunk = word + \" \"\n",
    "\n",
    "    chunks.append(curr_chunk)\n",
    "    return chunks\n",
    "\n",
    "def flatten_list_comprehension(nested_list):\n",
    "    return [item for sublist in nested_list for item in sublist]"
   ]
  },
  {
   "cell_type": "code",
   "execution_count": 53,
   "metadata": {},
   "outputs": [],
   "source": [
    "import os\n",
    "\n",
    "\n",
    "files = os.listdir()\n",
    "text_files = [file for file in files if '.txt' in file]\n",
    "\n",
    "list_of_transcripts = [read_file(file) for file in text_files]\n",
    "list_of_chunks = [chunk_text(transcript, 200) for transcript in list_of_transcripts]\n",
    "flat_chunk_list = flatten_list_comprehension(list_of_chunks)\n"
   ]
  },
  {
   "cell_type": "code",
   "execution_count": 57,
   "metadata": {},
   "outputs": [
    {
     "data": {
      "text/plain": [
       "26"
      ]
     },
     "execution_count": 57,
     "metadata": {},
     "output_type": "execute_result"
    }
   ],
   "source": [
    "len(list_of_chunks[2])"
   ]
  },
  {
   "cell_type": "code",
   "execution_count": 59,
   "metadata": {},
   "outputs": [],
   "source": [
    "flat_chunk_list = flatten_list_comprehension(list_of_chunks)"
   ]
  },
  {
   "cell_type": "code",
   "execution_count": 60,
   "metadata": {},
   "outputs": [
    {
     "data": {
      "text/plain": [
       "79"
      ]
     },
     "execution_count": 60,
     "metadata": {},
     "output_type": "execute_result"
    }
   ],
   "source": [
    "len(flat_chunk_list)"
   ]
  },
  {
   "cell_type": "code",
   "execution_count": 61,
   "metadata": {},
   "outputs": [
    {
     "data": {
      "text/plain": [
       "['\\ufeff1. Deep Understanding of Buyer’s Needs Comprehensive Needs Assessment - Ask Open-Ended Questions: Begin by understanding the buyer’s specific needs, challenges, and goals. \"Can you share with me the ',\n",
       " 'main challenges you\\'re facing with your current solution?\" - Tailor Your Approach: Customize your value proposition based on the buyer’s responses. \"I understand that improving efficiency is a top ',\n",
       " 'priority for you. Our solution is designed to streamline your operations, saving you both time and money.\" Confirm Understanding - Summarize Buyer’s Needs: Restate the buyer’s key challenges and ',\n",
       " 'goals to confirm your understanding. \"So, reducing operational costs and enhancing productivity are your primary objectives, correct?\" - Seek Confirmation: Ensure the buyer agrees with your summary. ',\n",
       " '\"Did I capture that correctly? Is there anything else you’d like to add?\" 2. Articulate Clear Value Proposition Highlight Key Benefits - Specific Benefits: Clearly outline the benefits of your ',\n",
       " 'product or service that align with the buyer’s needs. \"Our solution can reduce your operational costs by 20% and improve your team\\'s productivity by 30%.\" - Use Data and Metrics: Support your claims ',\n",
       " 'with data. \"Based on our case studies, our clients typically see a return on investment within six months.\" Use Compelling Storytelling - Case Studies: Share success stories relevant to the buyer’s ',\n",
       " 'industry or challenges. \"For instance, ABC Corp., a company similar to yours, was able to cut their operational costs by 25% using our solution.\" - Testimonials: Incorporate testimonials from ',\n",
       " 'satisfied customers. \"Here’s what one of our clients, XYZ Ltd., had to say about their experience with our product.\" 3. Demonstrate ROI and Value Financial Impact - Quantify ROI: Provide a clear ',\n",
       " 'calculation of the return on investment. \"By implementing our solution, you can save approximately $50,000 annually, which means you’ll see a full ROI in less than a year.\" - Long-Term Value: ',\n",
       " 'Emphasize the long-term benefits and cost savings. \"Over a five-year period, our solution can save you upwards of $250,000 and significantly enhance your operational efficiency.\" Value Beyond Cost - ',\n",
       " 'Non-Financial Benefits: Highlight benefits that go beyond financial savings, such as improved customer satisfaction, better compliance, and enhanced employee morale. \"In addition to cost savings, our ',\n",
       " 'solution has been shown to improve customer satisfaction scores by 15% and ensure compliance with industry regulations.\" 4. Address Concerns and Objections Anticipate Objections - Prepare Responses: ',\n",
       " 'Be ready to address common objections regarding value. \"I understand you might be concerned about the initial investment. However, let me show you how quickly our clients typically see a return.\" - ',\n",
       " 'Empathy and Understanding: Show empathy and address concerns directly. \"I completely understand why you\\'d want to ensure the value before making an investment. Here’s how we ensure that.\" Provide ',\n",
       " 'Evidence - Third-Party Validation: Use third-party reports or certifications to add credibility. \"Our solution is certified by XYZ organization, which validates its effectiveness and reliability.\" - ',\n",
       " 'Customer Success Stories: Share more detailed success stories to reassure the buyer. \"Another client in your sector saw a 35% improvement in their process efficiency within the first quarter.\" 5. ',\n",
       " 'Reinforce Value Throughout the Sales Process Continuous Value Reinforcement - Regular Check-Ins: Throughout the sales process, continuously reinforce the value proposition. \"As we discussed, the main ',\n",
       " 'benefit of our solution is its ability to save you time and money by automating key processes.\" - Tailored Follow-Ups: Send follow-up materials that highlight the value discussed. \"I’ve attached a ',\n",
       " 'case study and a white paper that detail the cost savings and efficiency gains our solution can provide.\" Implementing During a Call Imagine you are on a call with a potential buyer, and the topic of ',\n",
       " 'product/service value comes up. Here’s how you can handle it in the moment: 1. Deep Understanding of Buyer’s Needs: \"Can you tell me more about the challenges you\\'re currently facing with your ',\n",
       " 'existing solution?\" 2. Articulate Clear Value Proposition: \"Our solution is designed to reduce your operational costs by 20% and improve your team’s productivity by 30%. Here’s how we do it...\" 3. ',\n",
       " 'Demonstrate ROI and Value: \"By implementing our solution, you can expect to save around $50,000 annually, with a full ROI in less than a year. Over five years, this can amount to savings of ',\n",
       " '$250,000.\" 4. Address Concerns and Objections: \"I understand you might be worried about the initial cost. However, our clients typically see a return on investment very quickly. Here’s a case study ',\n",
       " 'showing similar results.\" 5. Reinforce Value: \"As we continue our discussions, I’ll send you more information on the cost savings and efficiency improvements our solution can provide. Let’s schedule ',\n",
       " 'a follow-up to address any further questions you might have.\" ',\n",
       " '\\ufeff1. Establish Value Before Price Focus on Benefits and ROI - Showcase Benefits: Begin by highlighting the specific benefits your product or service offers. Tailor this to the buyer’s pain points and ',\n",
       " 'goals identified during the needs assessment phase. For example, \"Our solution can reduce your operational costs by 20% within the first year.\" - Quantify the Value: Use metrics and data to quantify ',\n",
       " 'the value. \"Based on similar client results, you can expect an annual savings of approximately $50,000.\" - Case Studies and Testimonials: Share relevant success stories or testimonials. \"One of our ',\n",
       " 'clients in your industry saw a 30% increase in productivity after implementing our solution. Here\\'s a brief case study on how we achieved that.\" 2. Build Trust and Rapport Personalized Communication ',\n",
       " '- Match the Buyer’s Tone: Listen to the buyer’s communication style and mirror it to create a connection. If they are formal, be formal; if they are casual, adopt a more relaxed tone. - Show Genuine ',\n",
       " 'Interest: Ask about their business, goals, and challenges. \"I noticed your company recently expanded into new markets. How has that transition been for you?\" Transparency and Honesty - Be Clear About ',\n",
       " 'Pricing Structures: Explain your pricing model in simple terms. \"Our pricing is based on the number of users and includes all support and updates.\" - Disclose Additional Costs: If there are any ',\n",
       " 'additional fees, disclose them upfront. \"There is a one-time setup fee, but after that, there are no hidden charges.\" 3. Understand the Buyer’s Budget Needs Assessment - Open-Ended Questions: Use ',\n",
       " 'open-ended questions to understand their budget constraints without making assumptions. \"Can you share with me what your budget looks like for this project?\" - Explore Financial Flexibility: Probe to ',\n",
       " 'see if there’s flexibility in their budget. \"If we can show a strong ROI, would there be room to adjust the budget slightly?\" 4. Position Pricing as Flexible Offer Pricing Options - Multiple Tiers or ',\n",
       " 'Packages: Present different pricing tiers or packages that can fit various budget levels. \"We offer three packages: basic, standard, and premium. The standard package includes most features our ',\n",
       " 'clients find valuable, but if you\\'re looking for additional support and advanced features, the premium package might be more suitable.\" - Customization Possibility: Mention the possibility of ',\n",
       " 'customizing a package to better fit their needs. \"We can also tailor a package that fits your specific requirements if none of these options fully align with your needs.\" Highlight Payment Plans - ',\n",
       " 'Installment Plans: If available, discuss installment payment options. \"We offer a 12-month installment plan which can make budgeting easier for you.\" - Deferred Payments: If applicable, offer ',\n",
       " 'deferred payment options. \"We can also discuss deferred payment plans, where you start paying after three months of usage.\" 6. Reinforce the Cost of Inaction Highlight Opportunity Costs - Risks of ',\n",
       " 'Not Acting: Emphasize the potential risks and costs associated with not choosing your solution. \"Without this solution, you might continue to face the same inefficiencies and higher operational ',\n",
       " 'costs, which could amount to significant losses over time.\" - Competitive Disadvantages: Point out how competitors using similar solutions are gaining an edge. \"Your competitors who have adopted ',\n",
       " 'similar technologies are already seeing faster growth and higher market share.\" Quantify the Benefits - Concrete Numbers: Provide specific numbers and metrics to reinforce the value. \"Implementing ',\n",
       " 'our solution can save you approximately $50,000 annually and increase your team’s productivity by 30%.\" - Long-Term Gains: Emphasize the long-term benefits and savings. \"Over a five-year period, you ',\n",
       " 'could see a total savings of $250,000 and a substantial improvement in your operational efficiency.\" Implementing During a Call Imagine you are on a call with a potential buyer, and the topic of ',\n",
       " 'pricing comes up. Here’s how you can integrate these best practices in the moment: 1. Establish Value: \"Before we dive into pricing, let me share how our solution can specifically benefit your ',\n",
       " 'operations. For example, we’ve helped companies like yours reduce operational costs by 20%, which translated to annual savings of $50,000.\" 2. Build Rapport: \"I understand budget is a crucial factor. ',\n",
       " 'Can you tell me more about your financial goals for this project and any constraints you might have?\" 3. Understand the Budget: \"It’s important for us to align with your financial planning. What does ',\n",
       " 'your budget look like for this initiative? Are there areas where you see flexibility?\" 4. Position Pricing as Flexible: \"We offer several packages to fit different needs and budgets. Our standard ',\n",
       " 'package covers most features, but we also have premium options if you require advanced functionalities. Additionally, we offer a 12-month installment plan to make it easier on your cash flow.\" 5. ',\n",
       " 'Reinforce Cost of Inaction: \"Choosing not to act now might mean continuing with inefficiencies that cost you $50,000 annually. Plus, competitors adopting similar solutions are already seeing ',\n",
       " 'significant benefits.\" ',\n",
       " '\\ufeff1. Active Listening and Empathy Listen Carefully and Without Interruptions - Full Attention: Give the buyer your full attention, listening carefully to their concerns without interrupting. This ',\n",
       " 'shows respect and that you value their input. - Reflect Back: Summarize what the buyer has said to confirm your understanding. \"I hear you saying that you\\'re concerned about the integration process. ',\n",
       " 'Is that correct?\" Show Empathy - Acknowledge Their Concerns: Validate their feelings and show understanding. \"I completely understand why you\\'d be concerned about the integration. It can be a complex ',\n",
       " 'process.\" - Relate Personally: If possible, share a personal experience or a similar situation a client faced. \"I remember when another client felt the same way. They were worried about the ',\n",
       " 'transition, but we worked closely with them to ensure a smooth integration.\" 2. Clarify and Diagnose the Objection Ask Probing Questions - Explore the Root Cause: Use open-ended questions to dig ',\n",
       " 'deeper into the objection. \"Can you tell me more about your specific concerns regarding the integration?\" - Identify Underlying Issues: Sometimes the stated objection isn’t the real issue. Probe ',\n",
       " 'gently to uncover any underlying concerns. \"Is there anything else that\\'s worrying you about moving forward with our solution?\" Confirm Understanding - Restate the Objection: Restate the objection to ',\n",
       " 'ensure you\\'ve understood it correctly. \"So, your main concern is the potential downtime during the integration, correct?\" - Seek Confirmation: Get the buyer to confirm or clarify. \"Did I get that ',\n",
       " 'right? Is there anything else?\" 3. Address the Objection Directly Provide Evidence and Reassurance - Use Data and Case Studies: Provide evidence that addresses their concerns. \"Our integration ',\n",
       " 'process typically results in less than 1% downtime. Here’s a case study from a similar company we worked with.\" - Testimonials: Share testimonials from satisfied customers who had similar concerns. ',\n",
       " '\"One of our clients, XYZ Corp, had the same worries, but they found the process much smoother than expected.\" Offer Solutions - Tailor Your Response: Provide specific solutions to their concerns. \"We ',\n",
       " 'offer a comprehensive integration plan that includes 24/7 support and step-by-step guidance to minimize downtime.\" - Alternative Options: If applicable, suggest alternatives that can alleviate their ',\n",
       " 'concerns. \"We can also schedule the integration during off-peak hours to ensure minimal disruption to your operations.\" 4. Reframe the Objection Turn Objections into Opportunities - Highlight ',\n",
       " 'Benefits: Reframe the objection by highlighting how your solution overcomes their concerns and offers additional benefits. \"While integration is a valid concern, it’s also an opportunity to ',\n",
       " 'streamline your processes, which can save you significant time and money in the long run.\" - Relate to Goals: Connect the solution to the buyer\\'s goals. \"I understand that minimizing downtime is ',\n",
       " 'crucial for you. Our solution not only ensures a smooth integration but also enhances your system\\'s overall efficiency, aligning perfectly with your goal of maintaining high productivity.\" 5. Check ',\n",
       " 'for Understanding and Agreement Confirm Resolution - Verify Satisfaction: Ask the buyer if your response addressed their concern. \"Does that address your concern about the integration process?\" - ',\n",
       " 'Seek Agreement: Confirm that the buyer is satisfied with the solution and ready to move forward. \"Are you comfortable with our approach to handling the integration? Can we proceed with the next ',\n",
       " 'steps?\" Recap and Summarize - Summarize Key Points: Recap the main points discussed and the solutions provided. \"To summarize, we’ve discussed your concern about integration, and I’ve shared how our ',\n",
       " 'process ensures minimal downtime with 24/7 support.\" - Outline Next Steps: Clearly outline the next steps. \"The next step would be to schedule a meeting with our technical team to discuss the ',\n",
       " 'detailed integration plan. How does that sound?\" Implementing During a Call Imagine you are on a call with a potential buyer, and they raise an objection about the integration process. Here’s how you ',\n",
       " 'can handle it in the moment: 1. Active Listening and Empathy: \"I completely understand your concern about the integration process. It can certainly seem daunting.\" 2. Clarify and Diagnose: \"Can you ',\n",
       " 'tell me more about your specific worries? Is it the potential downtime that you\\'re most concerned about?\" 3. Address Directly: \"Our integration process typically results in less than 1% downtime. We ',\n",
       " 'provide 24/7 support and have a step-by-step plan to ensure everything goes smoothly. Here’s a case study from a similar company we worked with.\" 4. Reframe the Objection: \"While integration might ',\n",
       " 'seem like a hurdle, it’s also an opportunity to optimize your processes, which can lead to significant time and cost savings.\" 5. Check for Understanding and Agreement: \"Does this address your ',\n",
       " 'concern about the integration process? Are you comfortable with our approach and ready to move forward?\" ']"
      ]
     },
     "execution_count": 61,
     "metadata": {},
     "output_type": "execute_result"
    }
   ],
   "source": [
    "flat_chunk_list"
   ]
  },
  {
   "cell_type": "code",
   "execution_count": 62,
   "metadata": {},
   "outputs": [
    {
     "data": {
      "text/plain": [
       "'/Users/carlos.salas/Documents/sl-vista-backend/devtools'"
      ]
     },
     "execution_count": 62,
     "metadata": {},
     "output_type": "execute_result"
    }
   ],
   "source": [
    "os.getcwd()"
   ]
  },
  {
   "cell_type": "code",
   "execution_count": null,
   "metadata": {},
   "outputs": [],
   "source": []
  }
 ],
 "metadata": {
  "kernelspec": {
   "display_name": "vista_hackathon_env",
   "language": "python",
   "name": "python3"
  },
  "language_info": {
   "codemirror_mode": {
    "name": "ipython",
    "version": 3
   },
   "file_extension": ".py",
   "mimetype": "text/x-python",
   "name": "python",
   "nbconvert_exporter": "python",
   "pygments_lexer": "ipython3",
   "version": "3.12.4"
  }
 },
 "nbformat": 4,
 "nbformat_minor": 2
}
