{
 "cells": [
  {
   "cell_type": "code",
   "execution_count": 1,
   "metadata": {},
   "outputs": [
    {
     "name": "stderr",
     "output_type": "stream",
     "text": [
      "/Users/carlos.salas/Library/Caches/pypoetry/virtualenvs/sl-hack-be-m-nl7vwv-py3.12/lib/python3.12/site-packages/pinecone/data/index.py:1: TqdmWarning: IProgress not found. Please update jupyter and ipywidgets. See https://ipywidgets.readthedocs.io/en/stable/user_install.html\n",
      "  from tqdm.autonotebook import tqdm\n",
      "Hardware accelerator e.g. GPU is available in the environment, but no `device` argument is passed to the `Pipeline` object. Model will be on CPU.\n"
     ]
    }
   ],
   "source": [
    "from openai_requester import *\n",
    "import sys\n",
    "sys.path.append('../')\n",
    "sys.path.extend('../')\n",
    "from app.settings import inject_settings\n",
    "settings = inject_settings()\n",
    "\n",
    "from ai_agent_coach import *\n",
    "import json"
   ]
  },
  {
   "cell_type": "code",
   "execution_count": 2,
   "metadata": {},
   "outputs": [],
   "source": [
    "# set up clients\n",
    "client = OpenAI(api_key= settings.OPENAI_API_KEY)\n",
    "pinecone_client = Pinecone(api_key=settings.PINECONE_API_KEY)\n",
    "index = pinecone_client.Index(\"salesloft-vista\")\n",
    "\n"
   ]
  },
  {
   "cell_type": "code",
   "execution_count": 3,
   "metadata": {},
   "outputs": [],
   "source": [
    "parameters = {\n",
    "    \"model\": \"gpt-4o-mini\",\n",
    "    \"response_format\":{ \"type\": \"json_object\" },\n",
    "    \"temperature\": 0,\n",
    "    \"max_tokens\": 1000,\n",
    "    \"top_k\":5\n",
    "}"
   ]
  },
  {
   "cell_type": "code",
   "execution_count": 4,
   "metadata": {},
   "outputs": [],
   "source": [
    "transcription =  \"What is the best discount you can give me? Are you flexible?\""
   ]
  },
  {
   "cell_type": "code",
   "execution_count": 5,
   "metadata": {},
   "outputs": [],
   "source": [
    "# # Build the prompts\n",
    "# system, user = build_prompt(client= client, \n",
    "#                             index =index, \n",
    "#                             transcript=transcription, \n",
    "#                             top_k = parameters['top_k'])"
   ]
  },
  {
   "cell_type": "code",
   "execution_count": 6,
   "metadata": {},
   "outputs": [],
   "source": [
    "# Call the LLM API\n",
    "response_dict = run_llm_call(client, index, parameters, transcription)\n",
    "recommendation_str = response_dict['choices'][0]['content']"
   ]
  },
  {
   "cell_type": "code",
   "execution_count": 7,
   "metadata": {},
   "outputs": [
    {
     "data": {
      "text/plain": [
       "[\"Ask about their budget to explore flexibility: 'What does your budget look like for this initiative?'\",\n",
       " \"Mention payment options: 'We offer installment plans to help with budgeting.'\"]"
      ]
     },
     "execution_count": 7,
     "metadata": {},
     "output_type": "execute_result"
    }
   ],
   "source": [
    "recommendation_dict = json.loads(recommendation_str)\n",
    "recommendation_dict['recommendations']"
   ]
  }
 ],
 "metadata": {
  "kernelspec": {
   "display_name": "sl-hack-be-m-nl7vwv-py3.12",
   "language": "python",
   "name": "python3"
  },
  "language_info": {
   "codemirror_mode": {
    "name": "ipython",
    "version": 3
   },
   "file_extension": ".py",
   "mimetype": "text/x-python",
   "name": "python",
   "nbconvert_exporter": "python",
   "pygments_lexer": "ipython3",
   "version": "3.12.4"
  }
 },
 "nbformat": 4,
 "nbformat_minor": 2
}
